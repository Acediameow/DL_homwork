{
 "cells": [
  {
   "cell_type": "code",
   "execution_count": 1,
   "metadata": {},
   "outputs": [],
   "source": [
    "import torch\n",
    "import torchvision\n",
    "import torch.nn\n",
    "import numpy as np\n",
    "import random\n",
    "import os\n",
    "import time\n",
    "from torch.autograd import Variable\n",
    "from torch.utils.data import DataLoader"
   ]
  },
  {
   "cell_type": "code",
   "execution_count": 2,
   "metadata": {},
   "outputs": [],
   "source": [
    "# 固定随机数种子，保证模型的可复现性\n",
    "def set_seed(seed):\n",
    "    random.seed(seed)\n",
    "    np.random.seed(seed)\n",
    "    os.environ['PYTHONHASHSEED'] = str(seed)\n",
    "    torch.manual_seed(seed)\n",
    "    #torch.cuda.manual_seed(seed)\n",
    "    #torch.cuda.manual_seed_all(seed)\n",
    "    #torch.backends.cudnn.deterministic = True\n",
    "    #torch.backends.cudnn.benchmark = False\n",
    "    \n",
    "set_seed(666)"
   ]
  },
  {
   "cell_type": "code",
   "execution_count": 3,
   "metadata": {},
   "outputs": [],
   "source": [
    "#超参数\n",
    "epochs = 6\n",
    "batch_size = 64"
   ]
  },
  {
   "cell_type": "code",
   "execution_count": 4,
   "metadata": {},
   "outputs": [
    {
     "name": "stdout",
     "output_type": "stream",
     "text": [
      "len(train_loader)=938\n",
      "len(train_loader)=157\n"
     ]
    }
   ],
   "source": [
    "# 预处理\n",
    "transform = torchvision.transforms.Compose([torchvision.transforms.ToTensor(), torchvision.transforms.Normalize((0.5,),(0.5,))]     )\n",
    "\n",
    "# 加载数据集\n",
    "train_data = torchvision.datasets.MNIST(root = './data', train = True, download = True, transform = transform)    \n",
    "test_data = torchvision.datasets.MNIST(root = './data', train = False, download = True, transform = transform)      \n",
    "\n",
    "train_dl = DataLoader(train_data, batch_size = batch_size)\n",
    "test_dl = DataLoader(test_data, batch_size = batch_size)\n",
    "\n",
    "print('len(train_loader)={}'.format(len(train_dl)))\n",
    "print('len(train_loader)={}'.format(len(test_dl)))"
   ]
  },
  {
   "cell_type": "code",
   "execution_count": 5,
   "metadata": {},
   "outputs": [
    {
     "name": "stdout",
     "output_type": "stream",
     "text": [
      "LeNet(\n",
      "  (conv1): Sequential(\n",
      "    (0): Conv2d(1, 6, kernel_size=(5, 5), stride=(1, 1), padding=(2, 2))\n",
      "    (1): ReLU()\n",
      "    (2): MaxPool2d(kernel_size=2, stride=2, padding=0, dilation=1, ceil_mode=False)\n",
      "  )\n",
      "  (conv2): Sequential(\n",
      "    (0): Conv2d(6, 16, kernel_size=(5, 5), stride=(1, 1))\n",
      "    (1): ReLU()\n",
      "    (2): MaxPool2d(kernel_size=2, stride=2, padding=0, dilation=1, ceil_mode=False)\n",
      "  )\n",
      "  (fc1): Sequential(\n",
      "    (0): Linear(in_features=400, out_features=120, bias=True)\n",
      "    (1): ReLU()\n",
      "  )\n",
      "  (fc2): Sequential(\n",
      "    (0): Linear(in_features=120, out_features=84, bias=True)\n",
      "    (1): ReLU()\n",
      "    (2): Linear(in_features=84, out_features=10, bias=True)\n",
      "  )\n",
      ")\n"
     ]
    }
   ],
   "source": [
    "class LeNet(torch.nn.Module):\n",
    "    def __init__(self):\n",
    "        super(LeNet, self).__init__() \n",
    "        self.conv1 = torch.nn.Sequential(\n",
    "            torch.nn.Conv2d(1, 6, 5, 1, 2), \n",
    "            torch.nn.ReLU(),            \n",
    "            torch.nn.MaxPool2d(2, 2))\n",
    "\n",
    "        self.conv2 = torch.nn.Sequential(\n",
    "            torch.nn.Conv2d(6, 16, 5, 1, 0), \n",
    "            torch.nn.ReLU(),\n",
    "            torch.nn.MaxPool2d(2, 2))\n",
    "\n",
    "        self.fc1 = torch.nn.Sequential(\n",
    "            torch.nn.Linear(16 * 5 * 5, 120), \n",
    "            torch.nn.ReLU())\n",
    "\n",
    "        self.fc2 = torch.nn.Sequential(\n",
    "            torch.nn.Linear(120, 84),\n",
    "            torch.nn.ReLU(),\n",
    "            torch.nn.Linear(84, 10))\n",
    "        \n",
    "    def forward(self, x):\n",
    "        x = self.conv1(x)\n",
    "        x = self.conv2(x)\n",
    "        x = x.view(x.size()[0], -1)\n",
    "        x = self.fc1(x)\n",
    "        x = self.fc2(x)\n",
    "        return x\n",
    "\n",
    "model = LeNet()\n",
    "criterion = torch.nn.CrossEntropyLoss()\n",
    "optimizer = torch.optim.Adam(model.parameters())\n",
    "\n",
    "print(model)"
   ]
  },
  {
   "cell_type": "code",
   "execution_count": 6,
   "metadata": {},
   "outputs": [
    {
     "name": "stdout",
     "output_type": "stream",
     "text": [
      "epoch=0, batch=0, loss=2.31121\n",
      "epoch=0, batch=200, loss=0.179477\n",
      "epoch=0, batch=400, loss=0.0686001\n",
      "epoch=0, batch=600, loss=0.13855\n",
      "epoch=0, batch=800, loss=0.290489\n",
      "epoch=1, batch=0, loss=0.0388803\n",
      "epoch=1, batch=200, loss=0.0551373\n",
      "epoch=1, batch=400, loss=0.0244812\n",
      "epoch=1, batch=600, loss=0.0778633\n",
      "epoch=1, batch=800, loss=0.185291\n",
      "epoch=2, batch=0, loss=0.0500835\n",
      "epoch=2, batch=200, loss=0.0320324\n",
      "epoch=2, batch=400, loss=0.0114327\n",
      "epoch=2, batch=600, loss=0.0614011\n",
      "epoch=2, batch=800, loss=0.179756\n",
      "epoch=3, batch=0, loss=0.0655621\n",
      "epoch=3, batch=200, loss=0.057998\n",
      "epoch=3, batch=400, loss=0.00500868\n",
      "epoch=3, batch=600, loss=0.0421809\n",
      "epoch=3, batch=800, loss=0.134482\n",
      "epoch=4, batch=0, loss=0.00999517\n",
      "epoch=4, batch=200, loss=0.0608411\n",
      "epoch=4, batch=400, loss=0.00481056\n",
      "epoch=4, batch=600, loss=0.0324359\n",
      "epoch=4, batch=800, loss=0.098432\n",
      "epoch=5, batch=0, loss=0.0102997\n",
      "epoch=5, batch=200, loss=0.0210993\n",
      "epoch=5, batch=400, loss=0.0270665\n",
      "epoch=5, batch=600, loss=0.031082\n",
      "epoch=5, batch=800, loss=0.124057\n"
     ]
    }
   ],
   "source": [
    "# 训练\n",
    "for epoch in range(epochs):\n",
    "    for i, (images, labels) in enumerate(train_dl):\n",
    "        images = Variable(images)\n",
    "        labels = Variable(labels)\n",
    "        optimizer.zero_grad() #梯度归零\n",
    "        preds = model(images) #前向运算\n",
    "        loss = criterion(preds, labels) #损失函数\n",
    "        loss.backward() #反向传播\n",
    "        optimizer.step() #通过梯度做进一步的参数更新\n",
    " \n",
    "        if i % 200 ==0:\n",
    "            print('epoch={}, batch={}, loss={:g}'.format(epoch, i, loss.item()))"
   ]
  },
  {
   "cell_type": "code",
   "execution_count": 7,
   "metadata": {},
   "outputs": [
    {
     "name": "stdout",
     "output_type": "stream",
     "text": [
      "0.9878\n"
     ]
    }
   ],
   "source": [
    "#测试准确性\n",
    "total = 0\n",
    "correct = 0\n",
    "\n",
    "for test_image, test_label in test_dl:\n",
    "    test_pred = model(test_image)\n",
    "    pred = torch.argmax(test_pred, 1)\n",
    "    total += test_label.size(0)\n",
    "    correct += (pred == test_label).sum().item()\n",
    "\n",
    "#打印准确率\n",
    "print(correct / total)"
   ]
  }
 ],
 "metadata": {
  "kernelspec": {
   "display_name": "Python 3",
   "language": "python",
   "name": "python3"
  },
  "language_info": {
   "codemirror_mode": {
    "name": "ipython",
    "version": 3
   },
   "file_extension": ".py",
   "mimetype": "text/x-python",
   "name": "python",
   "nbconvert_exporter": "python",
   "pygments_lexer": "ipython3",
   "version": "3.7.4"
  }
 },
 "nbformat": 4,
 "nbformat_minor": 4
}
