{
 "cells": [
  {
   "cell_type": "code",
   "execution_count": 1,
   "metadata": {},
   "outputs": [],
   "source": [
    "import torch\n",
    "import torchvision\n",
    "import torch.nn\n",
    "import numpy as np\n",
    "import random\n",
    "import os\n",
    "import time\n",
    "from torch.utils.data import DataLoader"
   ]
  },
  {
   "cell_type": "code",
   "execution_count": 2,
   "metadata": {},
   "outputs": [],
   "source": [
    "# 固定随机数种子，保证模型的可复现性\n",
    "def set_seed(seed):\n",
    "    random.seed(seed)\n",
    "    np.random.seed(seed)\n",
    "    os.environ['PYTHONHASHSEED'] = str(seed)\n",
    "    torch.manual_seed(seed)\n",
    "    #torch.cuda.manual_seed(seed)\n",
    "    #torch.cuda.manual_seed_all(seed)\n",
    "    #torch.backends.cudnn.deterministic = True\n",
    "    #torch.backends.cudnn.benchmark = False\n",
    "    \n",
    "set_seed(666)"
   ]
  },
  {
   "cell_type": "code",
   "execution_count": 3,
   "metadata": {},
   "outputs": [],
   "source": [
    "#超参数\n",
    "epochs = 5\n",
    "batch_size = 64"
   ]
  },
  {
   "cell_type": "code",
   "execution_count": 4,
   "metadata": {},
   "outputs": [],
   "source": [
    "# 预处理\n",
    "transform = torchvision.transforms.Compose([torchvision.transforms.ToTensor(), torchvision.transforms.Normalize((0.5,),(0.5,))]     )\n",
    "\n",
    "# 加载数据集\n",
    "train_data = torchvision.datasets.MNIST(root = './data', train = True, download = True, transform = transform)    \n",
    "test_data = torchvision.datasets.MNIST(root = './data', train = False, download = True, transform = transform)      \n",
    "\n",
    "train_dl = DataLoader(train_data, batch_size = batch_size, shuffle = True)\n",
    "test_dl = DataLoader(test_data, batch_size = batch_size, shuffle = True)"
   ]
  },
  {
   "cell_type": "code",
   "execution_count": 5,
   "metadata": {},
   "outputs": [
    {
     "name": "stdout",
     "output_type": "stream",
     "text": [
      "Net(\n",
      "  (fc1): Linear(in_features=784, out_features=500, bias=True)\n",
      "  (relu2): ReLU()\n",
      "  (fc3): Linear(in_features=500, out_features=200, bias=True)\n",
      "  (relu4): ReLU()\n",
      "  (fc5): Linear(in_features=200, out_features=10, bias=True)\n",
      ")\n"
     ]
    }
   ],
   "source": [
    "class Net(torch.nn.Module):\n",
    "    def __init__(self):\n",
    "        super(Net, self).__init__() \n",
    "        self.fc1 = torch.nn.Linear(784, 500)\n",
    "        self.relu2 = torch.nn.ReLU()\n",
    "        self.fc3 = torch.nn.Linear(500, 200)\n",
    "        self.relu4 = torch.nn.ReLU()\n",
    "        self.fc5 = torch.nn.Linear(200, 10)\n",
    " \n",
    "    def forward(self, x):\n",
    "        x = x.view(x.shape[0], -1)\n",
    "        x = self.fc1(x)\n",
    "        x = self.relu2(x)\n",
    "        x = self.fc3(x)\n",
    "        x = self.relu4(x)\n",
    "        x = self.fc5(x)\n",
    "        return x\n",
    "\n",
    "model = Net()\n",
    "criterion = torch.nn.CrossEntropyLoss()\n",
    "optimizer = torch.optim.Adam(model.parameters())\n",
    "\n",
    "print(model)"
   ]
  },
  {
   "cell_type": "code",
   "execution_count": 6,
   "metadata": {},
   "outputs": [
    {
     "name": "stderr",
     "output_type": "stream",
     "text": [
      "F:\\Ksoftware\\anacondanew\\lib\\site-packages\\ipykernel_launcher.py:2: DeprecationWarning: time.clock has been deprecated in Python 3.3 and will be removed from Python 3.8: use time.perf_counter or time.process_time instead\n",
      "  \n"
     ]
    },
    {
     "name": "stdout",
     "output_type": "stream",
     "text": [
      "epoch=0, batch=0, loss=2.29711\n",
      "epoch=0, batch=200, loss=0.386776\n",
      "epoch=0, batch=400, loss=0.192278\n",
      "epoch=0, batch=600, loss=0.259303\n",
      "epoch=0, batch=800, loss=0.273769\n",
      "epoch=1, batch=0, loss=0.0951458\n",
      "epoch=1, batch=200, loss=0.15161\n",
      "epoch=1, batch=400, loss=0.171003\n",
      "epoch=1, batch=600, loss=0.208048\n",
      "epoch=1, batch=800, loss=0.0959579\n",
      "epoch=2, batch=0, loss=0.104961\n",
      "epoch=2, batch=200, loss=0.123491\n",
      "epoch=2, batch=400, loss=0.0975131\n",
      "epoch=2, batch=600, loss=0.051745\n",
      "epoch=2, batch=800, loss=0.022118\n",
      "epoch=3, batch=0, loss=0.0911821\n",
      "epoch=3, batch=200, loss=0.0202966\n",
      "epoch=3, batch=400, loss=0.0158767\n",
      "epoch=3, batch=600, loss=0.185679\n",
      "epoch=3, batch=800, loss=0.0609254\n",
      "epoch=4, batch=0, loss=0.0376248\n",
      "epoch=4, batch=200, loss=0.126354\n",
      "epoch=4, batch=400, loss=0.0199629\n",
      "epoch=4, batch=600, loss=0.0492025\n",
      "epoch=4, batch=800, loss=0.0661325\n",
      "167.4150154\n"
     ]
    },
    {
     "name": "stderr",
     "output_type": "stream",
     "text": [
      "F:\\Ksoftware\\anacondanew\\lib\\site-packages\\ipykernel_launcher.py:13: DeprecationWarning: time.clock has been deprecated in Python 3.3 and will be removed from Python 3.8: use time.perf_counter or time.process_time instead\n",
      "  del sys.path[0]\n"
     ]
    }
   ],
   "source": [
    "# 训练\n",
    "time1 = time.clock()\n",
    "for epoch in range(epochs):\n",
    "    for i, (images, lables) in enumerate(train_dl):\n",
    "        optimizer.zero_grad()\n",
    "        preds = model(images)\n",
    "        loss = criterion(preds, lables)\n",
    "        loss.backward()\n",
    "        optimizer.step()\n",
    " \n",
    "        if i % 200 ==0:\n",
    "            print('epoch={}, batch={}, loss={:g}'.format(epoch, i, loss.item()))\n",
    "time2 = time.clock()\n",
    "print(time2 - time1)"
   ]
  },
  {
   "cell_type": "code",
   "execution_count": 7,
   "metadata": {},
   "outputs": [
    {
     "name": "stdout",
     "output_type": "stream",
     "text": [
      "0.9751\n"
     ]
    }
   ],
   "source": [
    "#测试准确性\n",
    "total = 0\n",
    "correct = 0\n",
    "\n",
    "for test_image, test_label in test_dl:\n",
    "    test_pred = model(test_image)\n",
    "    pred = torch.argmax(test_pred, 1)\n",
    "    total += test_label.size(0)\n",
    "    correct += (pred == test_label).sum().item()\n",
    "\n",
    "#打印准确率\n",
    "print(correct / total)"
   ]
  }
 ],
 "metadata": {
  "kernelspec": {
   "display_name": "Python 3",
   "language": "python",
   "name": "python3"
  },
  "language_info": {
   "codemirror_mode": {
    "name": "ipython",
    "version": 3
   },
   "file_extension": ".py",
   "mimetype": "text/x-python",
   "name": "python",
   "nbconvert_exporter": "python",
   "pygments_lexer": "ipython3",
   "version": "3.7.4"
  }
 },
 "nbformat": 4,
 "nbformat_minor": 4
}
